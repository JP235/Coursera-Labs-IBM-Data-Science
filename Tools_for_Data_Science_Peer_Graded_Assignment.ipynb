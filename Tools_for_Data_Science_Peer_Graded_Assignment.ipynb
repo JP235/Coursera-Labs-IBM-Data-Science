{
 "cells": [
  {
   "cell_type": "markdown",
   "metadata": {},
   "source": [
    "# My Jupyter Notebook on IBM Watson Studio"
   ]
  },
  {
   "cell_type": "markdown",
   "metadata": {},
   "source": [
    "**Juan Pablo Mantilla** \n",
    "\n",
    "Biomedical Engineer / Data Scientist"
   ]
  },
  {
   "cell_type": "markdown",
   "metadata": {},
   "source": [
    "*I am interested in data science because of the potential improvements it can bring to many fields*"
   ]
  },
  {
   "cell_type": "markdown",
   "metadata": {},
   "source": [
    "### The following code prints the first 5 numbers in the Fibonacci sequence "
   ]
  },
  {
   "cell_type": "code",
   "execution_count": 3,
   "metadata": {},
   "outputs": [
    {
     "name": "stdout",
     "output_type": "stream",
     "text": [
      "0\n",
      "1\n",
      "1\n",
      "2\n",
      "3\n"
     ]
    }
   ],
   "source": [
    "def fib(n):\n",
    "    return n if n in (0, 1) else fib(n-1) + fib(n-2)\n",
    "\n",
    "\n",
    "for n in range(5):\n",
    "    print(fib(n))"
   ]
  },
  {
   "cell_type": "markdown",
   "metadata": {},
   "source": [
    "#### Horizontal Rule\n",
    "___\n",
    "#### Table\n",
    "| Head 1  | Head 2 |\n",
    "|:--------|:-------|\n",
    "| 0,0 | 1,0 |\n",
    "| 0,1 | 1,1 |\n",
    "| 0,2 | 1,2 |\n",
    "#### Bullet List\n",
    "* One\n",
    "* Two\n",
    "* Three"
   ]
  }
 ],
 "metadata": {
  "kernelspec": {
   "display_name": "Python",
   "language": "python",
   "name": "conda-env-python-py"
  },
  "language_info": {
   "codemirror_mode": {
    "name": "ipython",
    "version": 3
   },
   "file_extension": ".py",
   "mimetype": "text/x-python",
   "name": "python",
   "nbconvert_exporter": "python",
   "pygments_lexer": "ipython3",
   "version": "3.7.12"
  }
 },
 "nbformat": 4,
 "nbformat_minor": 4
}
